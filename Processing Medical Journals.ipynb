{
 "cells": [
  {
   "cell_type": "markdown",
   "id": "5965f6e1",
   "metadata": {},
   "source": [
    "# Background \n",
    "A very common pattern in data analysis is to do \"Named Entity Recognition\". This is where a team builds a model to idenify key elements out of text for later processing. For example:\n",
    "\n",
    "“Mark Zuckerberg is one of the founders of Facebook, a company from the United States” \n",
    "\n",
    "Out of this sentance, a model may produce:\n",
    "- \"Mark Zuckerberg\" - Two word phrase describing a person\n",
    "- \"Facebook\" - Company, related to Mark Zuckerberg in some way\n",
    "- \"United States\" - Location, related to Mark Zuckerberg & Facebook in some way\n",
    "\n",
    "More advanced models could draw some further association using nouns and verbs, but even this level of analysis offers a good deal of information to search engines, content correlation, categorization, etc."
   ]
  },
  {
   "cell_type": "markdown",
   "id": "353068ca",
   "metadata": {},
   "source": [
    "# Doing Named Entity Recognition on Medical Journals\n",
    "\n",
    "A new effort for automated analysis of text is using Named Entity Recognition techniques on existing and newly published content to enable faster analysis. In areas where there are too many publications for humans to read regularly, this unlocks far more knowledge quickly.\n",
    "\n",
    "For example, in medical journals, many thousands of articles are published every month, and there are over 25 million historical papers as well - far more than any organization could process. Using a named entity recognition tool will enable fast searching, analysis of associated papers and potential information for further investigation.\n",
    "\n",
    "The example we will look at is a simplified version of this one - https://nbviewer.jupyter.org/github/andressotov/Named-Entity-Recognition-in-French-biomedical-text/blob/master/Named%20Entity%20Recognition%20in%20French%20biomedical%20text.ipynb"
   ]
  },
  {
   "cell_type": "markdown",
   "id": "b8e4fa69",
   "metadata": {},
   "source": [
    "# Step 1 - Ingest the data from flat files"
   ]
  },
  {
   "cell_type": "code",
   "execution_count": 1,
   "id": "0ec055ea",
   "metadata": {},
   "outputs": [],
   "source": [
    "# path to the data train set \n",
    "path_train = \"\"\n",
    "\n",
    "def read_file(path,file,ext):    \n",
    "    f = path+'\\\\'+file+ext\n",
    "    with open(f, 'rt', encoding='utf-8') as myfile:\n",
    "        data = myfile.readlines()\n",
    "    return data\n",
    "\n",
    "# To read a file and obtain its content\n",
    "data = read_file(path_train,\"14448\",\".txt\")\n",
    "data"
   ]
  },
  {
   "cell_type": "markdown",
   "id": "29e3698d",
   "metadata": {},
   "source": [
    "# Step 2 - Print out the data to make sure it's being read properly"
   ]
  },
  {
   "cell_type": "code",
   "execution_count": null,
   "id": "5c961537",
   "metadata": {},
   "outputs": [],
   "source": [
    "import pprint\n",
    "\n",
    "data = read_file(path_train,\"14448\",\".ann\")\n",
    "pprint.pprint(data)"
   ]
  },
  {
   "cell_type": "markdown",
   "id": "7002d5a6",
   "metadata": {},
   "source": [
    "# Step 3 - Convert from Various File Types to Common File Type"
   ]
  },
  {
   "cell_type": "code",
   "execution_count": 2,
   "id": "c1ba7351",
   "metadata": {},
   "outputs": [
    {
     "ename": "NameError",
     "evalue": "name 'data' is not defined",
     "output_type": "error",
     "traceback": [
      "\u001b[0;31m---------------------------------------------------------------------------\u001b[0m",
      "\u001b[0;31mNameError\u001b[0m                                 Traceback (most recent call last)",
      "\u001b[0;32m<ipython-input-2-67eda3beb20e>\u001b[0m in \u001b[0;36m<module>\u001b[0;34m\u001b[0m\n\u001b[1;32m     11\u001b[0m             }\n\u001b[1;32m     12\u001b[0m     \u001b[0;32mreturn\u001b[0m \u001b[0md\u001b[0m\u001b[0;34m\u001b[0m\u001b[0;34m\u001b[0m\u001b[0m\n\u001b[0;32m---> 13\u001b[0;31m \u001b[0md\u001b[0m \u001b[0;34m=\u001b[0m \u001b[0mann_text2dict\u001b[0m\u001b[0;34m(\u001b[0m\u001b[0mdata\u001b[0m\u001b[0;34m)\u001b[0m\u001b[0;34m\u001b[0m\u001b[0;34m\u001b[0m\u001b[0m\n\u001b[0m\u001b[1;32m     14\u001b[0m \u001b[0mpprint\u001b[0m\u001b[0;34m.\u001b[0m\u001b[0mpprint\u001b[0m\u001b[0;34m(\u001b[0m\u001b[0md\u001b[0m\u001b[0;34m)\u001b[0m\u001b[0;34m\u001b[0m\u001b[0;34m\u001b[0m\u001b[0m\n",
      "\u001b[0;31mNameError\u001b[0m: name 'data' is not defined"
     ]
    }
   ],
   "source": [
    "def ann_text2dict(lines):\n",
    "    d = {}\n",
    "    for l in lines:\n",
    "        if not l.startswith('#'):\n",
    "            t = l.split('\\t')\n",
    "            if ';' in t[1]:\n",
    "                t[1] = t[1].replace(';',' ; ')\n",
    "            d[t[0]] = {\n",
    "                'label':t[1].split(' '),\n",
    "                'text':t[2].replace('\\n','')\n",
    "            }\n",
    "    return d\n",
    "d = ann_text2dict(data)\n",
    "pprint.pprint(d)"
   ]
  },
  {
   "cell_type": "markdown",
   "id": "651078aa",
   "metadata": {},
   "source": []
  },
  {
   "cell_type": "markdown",
   "id": "3fcc7d92",
   "metadata": {},
   "source": []
  },
  {
   "cell_type": "markdown",
   "id": "a47a1ac1",
   "metadata": {},
   "source": []
  },
  {
   "cell_type": "markdown",
   "id": "98caa133",
   "metadata": {},
   "source": []
  },
  {
   "cell_type": "markdown",
   "id": "0b6384fb",
   "metadata": {},
   "source": []
  },
  {
   "cell_type": "markdown",
   "id": "5c4b081d",
   "metadata": {},
   "source": []
  },
  {
   "cell_type": "markdown",
   "id": "66b97e9d",
   "metadata": {},
   "source": []
  }
 ],
 "metadata": {
  "kernelspec": {
   "display_name": "Python 3",
   "language": "python",
   "name": "python3"
  },
  "language_info": {
   "codemirror_mode": {
    "name": "ipython",
    "version": 3
   },
   "file_extension": ".py",
   "mimetype": "text/x-python",
   "name": "python",
   "nbconvert_exporter": "python",
   "pygments_lexer": "ipython3",
   "version": "3.9.5"
  }
 },
 "nbformat": 4,
 "nbformat_minor": 5
}
