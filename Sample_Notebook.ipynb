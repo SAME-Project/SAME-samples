{
 "cells": [
  {
   "cell_type": "code",
   "execution_count": null,
   "id": "98eb1825",
   "metadata": {},
   "outputs": [],
   "source": [
    "import tensorflow\n",
    "\n",
    "a = 3"
   ]
  },
  {
   "cell_type": "code",
   "execution_count": null,
   "id": "5678de78",
   "metadata": {},
   "outputs": [],
   "source": [
    "from PIL import Image\n",
    "\n",
    "b = a + 5\n",
    "\n",
    "image = Image.open(\"FaroeIslands.jpeg\")\n",
    "image.show()"
   ]
  },
  {
   "cell_type": "code",
   "execution_count": null,
   "id": "38ee3a2b",
   "metadata": {},
   "outputs": [],
   "source": [
    "import plotly\n",
    "\n",
    "def some_math(x, z) -> tuple:\n",
    "    return (x + z, x / z)"
   ]
  },
  {
   "cell_type": "code",
   "execution_count": 17,
   "id": "6ed5b038",
   "metadata": {},
   "outputs": [
    {
     "data": {
      "image/png": "[encoded data removed]",
      "text/plain": [
       "<Figure size 432x288 with 1 Axes>"
      ]
     },
     "metadata": {
      "needs_background": "light"
     },
     "output_type": "display_data"
    }
   ],
   "source": [
    "import numpy as np\n",
    "import matplotlib.pyplot as plt\n",
    "import scipy.stats as stats\n",
    "mu = 0\n",
    "std = 1\n",
    "x = np.linspace(start=-4, stop=4, num=100)\n",
    "y = stats.norm.pdf(x, mu, std) \n",
    "plt.plot(x, y)\n",
    "plt.show()"
   ]
  },
  {
   "cell_type": "code",
   "execution_count": 30,
   "id": "cc057255",
   "metadata": {},
   "outputs": [
    {
     "data": {
      "text/plain": [
       "<matplotlib.table.Table at 0x7fdac4e86970>"
      ]
     },
     "execution_count": 30,
     "metadata": {},
     "output_type": "execute_result"
    },
    {
     "data": {
      "image/png": "[encoded data removed]",
      "text/plain": [
       "<Figure size 432x288 with 1 Axes>"
      ]
     },
     "metadata": {
      "needs_background": "light"
     },
     "output_type": "display_data"
    }
   ],
   "source": [
    "import requests\n",
    "import pandas as pd\n",
    "import io\n",
    "import plotly.figure_factory as ff\n",
    "import chart_studio.plotly as py\n",
    "\n",
    "url = 'https://same-project.github.io/SAME-samples/automated_notebook/test.csv'\n",
    "\n",
    "r = requests.get(url)\n",
    "if r.ok:\n",
    "    data = r.content.decode('utf-8')\n",
    "    df = pd.read_csv(io.StringIO(data))\n",
    "    \n",
    "df = pd.read_csv(\"test.csv\")\n",
    "\n",
    "cell_text = []\n",
    "for row in range(len(df)):\n",
    "    cell_text.append(df.iloc[row])\n",
    "\n",
    "plt.table(cellText=cell_text)"
   ]
  },
  {
   "cell_type": "code",
   "execution_count": null,
   "id": "ddb29fa6",
   "metadata": {},
   "outputs": [],
   "source": []
  },
  {
   "cell_type": "code",
   "execution_count": 22,
   "id": "ad8b2cd2",
   "metadata": {},
   "outputs": [],
   "source": [
    "g = some_math(8, 21)"
   ]
  },
  {
   "cell_type": "code",
   "execution_count": 27,
   "id": "67e84687",
   "metadata": {},
   "outputs": [
    {
     "name": "stdout",
     "output_type": "stream",
     "text": [
      "j: 29\n"
     ]
    }
   ],
   "source": [
    "print(f\"j: {this_tuple[0]}\")"
   ]
  },
  {
   "cell_type": "code",
   "execution_count": 28,
   "id": "b3c81dd7",
   "metadata": {},
   "outputs": [
    {
     "name": "stdout",
     "output_type": "stream",
     "text": [
      "k: 0.38095238095238093\n"
     ]
    }
   ],
   "source": [
    "print(f\"k: {this_tuple[1]}\")"
   ]
  },
  {
   "cell_type": "code",
   "execution_count": null,
   "id": "8b8c7909",
   "metadata": {},
   "outputs": [],
   "source": []
  },
  {
   "cell_type": "code",
   "execution_count": null,
   "id": "86b62118",
   "metadata": {},
   "outputs": [],
   "source": []
  },
  {
   "cell_type": "code",
   "execution_count": null,
   "id": "1ef65b61",
   "metadata": {},
   "outputs": [],
   "source": []
  }
 ],
 "metadata": {
  "kernelspec": {
   "display_name": "Python 3",
   "language": "python",
   "name": "python3"
  },
  "language_info": {
   "codemirror_mode": {
    "name": "ipython",
    "version": 3
   },
   "file_extension": ".py",
   "mimetype": "text/x-python",
   "name": "python",
   "nbconvert_exporter": "python",
   "pygments_lexer": "ipython3",
   "version": "3.8.5"
  }
 },
 "nbformat": 4,
 "nbformat_minor": 5
}
