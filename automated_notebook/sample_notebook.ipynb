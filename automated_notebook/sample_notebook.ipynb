{
 "cells": [
  {
   "cell_type": "code",
   "execution_count": null,
   "id": "98eb1825",
   "metadata": {},
   "outputs": [],
   "source": [
    "# SAME-step-1\n",
    "import tensorflow\n",
    "\n",
    "a = 4"
   ]
  },
  {
   "cell_type": "code",
   "execution_count": null,
   "id": "5678de78",
   "metadata": {},
   "outputs": [],
   "source": [
    "# SAME-step-1\n",
    "\n",
    "from IPython.display import Image\n",
    "\n",
    "b = a + 5\n",
    "\n",
    "url = 'https://same-project.github.io/SAME-samples/automated_notebook/FaroeIslands.jpeg'\n",
    "\n",
    "from IPython import display\n",
    "display.Image(url)\n"
   ]
  },
  {
   "cell_type": "code",
   "execution_count": null,
   "id": "38ee3a2b",
   "metadata": {},
   "outputs": [],
   "source": [
    "# SAME-step-1\n",
    "\n",
    "import plotly\n",
    "\n",
    "def some_math(x, z) -> tuple:\n",
    "    return (x + z, x / z)"
   ]
  },
  {
   "cell_type": "code",
   "execution_count": null,
   "id": "6ed5b038",
   "metadata": {},
   "outputs": [],
   "source": [
    "# SAME-step-2\n",
    "\n",
    "import numpy as np\n",
    "import matplotlib.pyplot as plt\n",
    "import scipy.stats as stats\n",
    "mu = 0\n",
    "std = 1\n",
    "x = np.linspace(start=-4, stop=4, num=100)\n",
    "y = stats.norm.pdf(x, mu, std) \n",
    "plt.plot(x, y)\n",
    "plt.show()"
   ]
  },
  {
   "cell_type": "code",
   "execution_count": null,
   "id": "cc057255",
   "metadata": {},
   "outputs": [],
   "source": [
    "# SAME-step-3\n",
    "\n",
    "import requests\n",
    "import pandas as pd\n",
    "import io\n",
    "import plotly.figure_factory as ff\n",
    "import chart_studio.plotly as py\n",
    "\n",
    "url = 'https://same-project.github.io/SAME-samples/automated_notebook/test.csv'\n",
    "df = pd.read_csv(url)\n",
    "\n",
    "df.describe()"
   ]
  },
  {
   "cell_type": "code",
   "execution_count": null,
   "id": "31d5287d",
   "metadata": {},
   "outputs": [],
   "source": []
  },
  {
   "cell_type": "code",
   "execution_count": null,
   "id": "ad8b2cd2",
   "metadata": {},
   "outputs": [],
   "source": [
    "# SAME-step-3\n",
    "g = some_math(8, 21)"
   ]
  },
  {
   "cell_type": "code",
   "execution_count": null,
   "id": "67e84687",
   "metadata": {},
   "outputs": [],
   "source": [
    "# SAME-step-4\n",
    "\n",
    "print(f\"j: {g[0]}\")"
   ]
  },
  {
   "cell_type": "code",
   "execution_count": null,
   "id": "b3c81dd7",
   "metadata": {},
   "outputs": [],
   "source": [
    "# SAME-step-4\n",
    "\n",
    "print(f\"k: {g[1]}\")"
   ]
  },
  {
   "cell_type": "code",
   "execution_count": null,
   "id": "8b8c7909",
   "metadata": {},
   "outputs": [],
   "source": []
  },
  {
   "cell_type": "code",
   "execution_count": null,
   "id": "86b62118",
   "metadata": {},
   "outputs": [],
   "source": []
  },
  {
   "cell_type": "code",
   "execution_count": null,
   "id": "1ef65b61",
   "metadata": {},
   "outputs": [],
   "source": []
  }
 ],
 "metadata": {
  "kernelspec": {
   "display_name": "Python 3",
   "language": "python",
   "name": "python3"
  },
  "language_info": {
   "codemirror_mode": {
    "name": "ipython",
    "version": 3
   },
   "file_extension": ".py",
   "mimetype": "text/x-python",
   "name": "python",
   "nbconvert_exporter": "python",
   "pygments_lexer": "ipython3",
   "version": "3.8.5"
  }
 },
 "nbformat": 4,
 "nbformat_minor": 5
}