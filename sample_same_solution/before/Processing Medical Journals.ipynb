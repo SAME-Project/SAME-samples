{
 "cells": [
  {
   "cell_type": "markdown",
   "id": "a2f950e1",
   "metadata": {},
   "source": [
    "# Background \n",
    "A very common pattern in data analysis is to do \"Named Entity Recognition\". This is where a team builds a model to idenify key elements out of text for later processing. For example:\n",
    "\n",
    "“Mark Zuckerberg is one of the founders of Facebook, a company from the United States” \n",
    "\n",
    "Out of this sentance, a model may produce:\n",
    "- \"Mark Zuckerberg\" - Two word phrase describing a person\n",
    "- \"Facebook\" - Company, related to Mark Zuckerberg in some way\n",
    "- \"United States\" - Location, related to Mark Zuckerberg & Facebook in some way\n",
    "\n",
    "More advanced models could draw some further association using nouns and verbs, but even this level of analysis offers a good deal of information to search engines, content correlation, categorization, etc."
   ]
  },
  {
   "cell_type": "markdown",
   "id": "5123d8ea",
   "metadata": {},
   "source": [
    "# Doing Named Entity Recognition on Medical Journals\n",
    "\n",
    "A new effort for automated analysis of text is using Named Entity Recognition techniques on existing and newly published content to enable faster analysis. In areas where there are too many publications for humans to read regularly, this unlocks far more knowledge quickly.\n",
    "\n",
    "For example, in medical journals, many thousands of articles are published every month, and there are over 25 million historical papers as well - far more than any organization could process. Using a named entity recognition tool will enable fast searching, analysis of associated papers and potential information for further investigation.\n",
    "\n",
    "The example we will look at is a simplified version of this one - \n",
    "- https://nbviewer.jupyter.org/github/andressotov/Named-Entity-Recognition-in-French-biomedical-text/blob/master/Named%20Entity%20Recognition%20in%20French%20biomedical%20text.ipynb \n",
    "- https://nbviewer.jupyter.org/github/andressotov/Named-Entity-Recognition-in-French-biomedical-text/blob/master/Named%20Entity%20Recognition%20in%20French%20biomedical%20text%20Part%202.ipynb"
   ]
  },
  {
   "cell_type": "markdown",
   "id": "044de8e3",
   "metadata": {},
   "source": [
    "# Step 1 - Ingest the data from flat files"
   ]
  },
  {
   "cell_type": "code",
   "execution_count": 1,
   "id": "366f09f5",
   "metadata": {},
   "outputs": [
    {
     "data": {
      "text/plain": [
       "[\"Glutamine synthétase et glutamine gamma-glutamyl transferase dans le rein de l' homme , du chien et du rat\\n\"]"
      ]
     },
     "execution_count": 1,
     "metadata": {},
     "output_type": "execute_result"
    }
   ],
   "source": [
    "# path to the data train set \n",
    "path_train = \"corpus/dev/MEDLINE\"\n",
    "\n",
    "def read_file(path,file,ext):    \n",
    "    f = path+'/'+file+ext\n",
    "    with open(f, 'rt', encoding='utf-8') as myfile:\n",
    "        data = myfile.readlines()\n",
    "    return data\n",
    "\n",
    "# To read a file and obtain its content\n",
    "data = read_file(path_train,\"2787\",\".txt\")\n",
    "data"
   ]
  },
  {
   "cell_type": "markdown",
   "id": "8411786a",
   "metadata": {},
   "source": [
    "# Step 2 - Print out the data to make sure it's being read properly"
   ]
  },
  {
   "cell_type": "code",
   "execution_count": 2,
   "id": "544d5344",
   "metadata": {},
   "outputs": [
    {
     "name": "stdout",
     "output_type": "stream",
     "text": [
      "['T1\\tCHEM 0 20\\tGlutamine synthétase\\n',\n",
      " '#1\\tAnnotatorNotes T1\\tC0017801\\n',\n",
      " 'T2\\tCHEM 0 9\\tGlutamine\\n',\n",
      " '#2\\tAnnotatorNotes T2\\tC0017797\\n',\n",
      " 'T3\\tCHEM 10 20\\tsynthétase\\n',\n",
      " '#3\\tAnnotatorNotes T3\\tC0023689\\n',\n",
      " 'T4\\tCHEM 24 33\\tglutamine\\n',\n",
      " '#4\\tAnnotatorNotes T4\\tC0017797\\n',\n",
      " 'T5\\tCHEM 34 60\\tgamma-glutamyl transferase\\n',\n",
      " '#5\\tAnnotatorNotes T5\\tC0017040\\n',\n",
      " 'T6\\tCHEM 49 60\\ttransferase\\n',\n",
      " '#6\\tAnnotatorNotes T6\\tC0040676\\n',\n",
      " 'T7\\tANAT 69 73\\trein\\n',\n",
      " '#7\\tAnnotatorNotes T7\\tC0022646\\n',\n",
      " 'T8\\tLIVB 80 85\\thomme\\n',\n",
      " '#8\\tAnnotatorNotes T8\\tC0086418\\n',\n",
      " 'T9\\tLIVB 91 96\\tchien\\n',\n",
      " '#9\\tAnnotatorNotes T9\\tC0012984\\n',\n",
      " 'T10\\tLIVB 103 106\\trat\\n',\n",
      " '#10\\tAnnotatorNotes T10\\tC0034721\\n']\n"
     ]
    }
   ],
   "source": [
    "import pprint\n",
    "\n",
    "data = read_file(path_train,\"2787\",\".ann\")\n",
    "pprint.pprint(data)"
   ]
  },
  {
   "cell_type": "markdown",
   "id": "f4cbeebc",
   "metadata": {},
   "source": [
    "# Step 3 - Convert from .ann File Type to a Dict"
   ]
  },
  {
   "cell_type": "code",
   "execution_count": 3,
   "id": "4baf8595",
   "metadata": {},
   "outputs": [
    {
     "name": "stdout",
     "output_type": "stream",
     "text": [
      "{'T1': {'label': ['CHEM', '0', '20'], 'text': 'Glutamine synthétase'},\n",
      " 'T10': {'label': ['LIVB', '103', '106'], 'text': 'rat'},\n",
      " 'T2': {'label': ['CHEM', '0', '9'], 'text': 'Glutamine'},\n",
      " 'T3': {'label': ['CHEM', '10', '20'], 'text': 'synthétase'},\n",
      " 'T4': {'label': ['CHEM', '24', '33'], 'text': 'glutamine'},\n",
      " 'T5': {'label': ['CHEM', '34', '60'], 'text': 'gamma-glutamyl transferase'},\n",
      " 'T6': {'label': ['CHEM', '49', '60'], 'text': 'transferase'},\n",
      " 'T7': {'label': ['ANAT', '69', '73'], 'text': 'rein'},\n",
      " 'T8': {'label': ['LIVB', '80', '85'], 'text': 'homme'},\n",
      " 'T9': {'label': ['LIVB', '91', '96'], 'text': 'chien'}}\n"
     ]
    }
   ],
   "source": [
    "def ann_text2dict(lines):\n",
    "    d = {}\n",
    "    for l in lines:\n",
    "        if not l.startswith('#'):\n",
    "            t = l.split('\\t')\n",
    "            if ';' in t[1]:\n",
    "                t[1] = t[1].replace(';',' ; ')\n",
    "            d[t[0]] = {\n",
    "                'label':t[1].split(' '),\n",
    "                'text':t[2].replace('\\n','')\n",
    "            }\n",
    "    return d\n",
    "d = ann_text2dict(data)\n",
    "pprint.pprint(d)"
   ]
  },
  {
   "cell_type": "markdown",
   "id": "b1b9a47f",
   "metadata": {},
   "source": [
    "# Step 4 - Combine .txt and .ann files into a Single Dict"
   ]
  },
  {
   "cell_type": "code",
   "execution_count": 4,
   "id": "1dee7645",
   "metadata": {},
   "outputs": [],
   "source": [
    "import os\n",
    "import pickle\n",
    "\n",
    "def save_pickle(data,file):\n",
    "    pick_file = open(file+\".pkl\", \"wb\")\n",
    "    pickle.dump(data, pick_file)\n",
    "    pick_file.close()\n",
    "\n",
    "def load_pickle(file):\n",
    "    pick_file = open(file+\".pkl\", \"rb\")\n",
    "    data = pickle.load(pick_file)\n",
    "    pick_file.close()\n",
    "    return data\n",
    "\n",
    "def collect_files(path,set):\n",
    "    dirs = os.listdir(path)\n",
    "    ltxt = []\n",
    "    lann = []\n",
    "    for f in dirs:\n",
    "        if f.endswith('.txt'):\n",
    "            f = f.replace('.txt','')\n",
    "            ltxt.append(f)\n",
    "        elif f.endswith('.ann'):\n",
    "            f = f.replace('.ann','')\n",
    "            lann.append(f)\n",
    "        else:\n",
    "            pass\n",
    "    save_pickle(ltxt,set+'_txt')\n",
    "    save_pickle(lann,set+'_ann')\n",
    "    \n",
    "collect_files(path_train,'train')"
   ]
  },
  {
   "cell_type": "markdown",
   "id": "cb4aec8b",
   "metadata": {},
   "source": [
    "# Step 5 - Process the Text in .ann Files into a Dict"
   ]
  },
  {
   "cell_type": "code",
   "execution_count": 5,
   "id": "a199a878",
   "metadata": {},
   "outputs": [
    {
     "name": "stdout",
     "output_type": "stream",
     "text": [
      "# of ann files 832\n"
     ]
    }
   ],
   "source": [
    "def ann_files2dict(pic_file,path,set):\n",
    "    lann = load_pickle(pic_file)\n",
    "    lnew = []\n",
    "    c = 0\n",
    "    for ann in lann:\n",
    "        data = read_file(path, ann, \".ann\")\n",
    "        dic = ann_text2dict(data)\n",
    "        c+=1\n",
    "        lnew.append(dic)\n",
    "\n",
    "    save_pickle(lnew,set+'_ann_dics')\n",
    "    return lnew\n",
    "lnew = ann_files2dict('train_ann',path_train,'train')\n",
    "\n",
    "print(\"# of ann files\",len(lnew))"
   ]
  },
  {
   "cell_type": "markdown",
   "id": "16e04654",
   "metadata": {},
   "source": [
    "# Step 6 - Reduce Number of Tokens Per Label (Should Only Be One)\n",
    "\n",
    "There is one situation that we didn’t mentioned before: it is possible that more labels are assigned to the same token (annotations overlap). In this case, we will only choose one of them and discard the other. For example, let’s assume that we have the following text:"
   ]
  },
  {
   "cell_type": "code",
   "execution_count": 6,
   "id": "42801eb5",
   "metadata": {},
   "outputs": [
    {
     "name": "stdout",
     "output_type": "stream",
     "text": [
      "{'T1': {'label': ['CHEM', '0', '20'], 'text': 'Glutamine synthétase'},\n",
      " 'T10': {'label': ['LIVB', '103', '106'], 'text': 'rat'},\n",
      " 'T2': {'label': ['CHEM', '0', '9'], 'text': 'Glutamine'},\n",
      " 'T3': {'label': ['CHEM', '10', '20'], 'text': 'synthétase'},\n",
      " 'T4': {'label': ['CHEM', '24', '33'], 'text': 'glutamine'},\n",
      " 'T5': {'label': ['CHEM', '34', '60'], 'text': 'gamma-glutamyl transferase'},\n",
      " 'T6': {'label': ['CHEM', '49', '60'], 'text': 'transferase'},\n",
      " 'T7': {'label': ['ANAT', '69', '73'], 'text': 'rein'},\n",
      " 'T8': {'label': ['LIVB', '80', '85'], 'text': 'homme'},\n",
      " 'T9': {'label': ['LIVB', '91', '96'], 'text': 'chien'}}\n"
     ]
    }
   ],
   "source": [
    "def is_subrange(r1,r2):\n",
    "    [a1,b1] = r1\n",
    "    [a2,b2] = r2\n",
    "    if int(a2) <= int(a1) and int(b1) <= int(b2): # [a1,b1] subrange of [a2,b2]\n",
    "        return True\n",
    "    else:\n",
    "        return False\n",
    "\n",
    "def contained(key, ann_dic):\n",
    "    piv = ann_dic[key]['label']\n",
    "    for k in ann_dic.keys():\n",
    "        if not k == key:\n",
    "            lab_field = ann_dic[k]['label']\n",
    "            if len(lab_field) == 3:\n",
    "                if len(piv) == 3:\n",
    "                    if is_subrange([piv[1],piv[2]],\n",
    "                                   [lab_field[1],lab_field[2]]):\n",
    "                        return True\n",
    "    return False\n",
    "\n",
    "def remove_contained(ann_dic):\n",
    "    lrem = []\n",
    "    for k in ann_dic.keys():\n",
    "        if contained(k,ann_dic):\n",
    "            lrem.append(k)\n",
    "    for i in lrem:\n",
    "        del ann_dic[i]\n",
    "    return ann_dic\n",
    "\n",
    "pprint.pprint(d)"
   ]
  },
  {
   "cell_type": "code",
   "execution_count": 7,
   "id": "e252f970",
   "metadata": {},
   "outputs": [
    {
     "name": "stdout",
     "output_type": "stream",
     "text": [
      "{'T1': {'label': ['CHEM', '0', '20'], 'text': 'Glutamine synthétase'},\n",
      " 'T10': {'label': ['LIVB', '103', '106'], 'text': 'rat'},\n",
      " 'T4': {'label': ['CHEM', '24', '33'], 'text': 'glutamine'},\n",
      " 'T5': {'label': ['CHEM', '34', '60'], 'text': 'gamma-glutamyl transferase'},\n",
      " 'T7': {'label': ['ANAT', '69', '73'], 'text': 'rein'},\n",
      " 'T8': {'label': ['LIVB', '80', '85'], 'text': 'homme'},\n",
      " 'T9': {'label': ['LIVB', '91', '96'], 'text': 'chien'}}\n"
     ]
    }
   ],
   "source": [
    "d1 = remove_contained(d)\n",
    "pprint.pprint(d1)"
   ]
  },
  {
   "cell_type": "markdown",
   "id": "3f01283b",
   "metadata": {},
   "source": [
    "# Step 7 - Verify the Reduction is Valid By Examining Non-Continuous Segments"
   ]
  },
  {
   "cell_type": "code",
   "execution_count": 8,
   "id": "7b461bde",
   "metadata": {},
   "outputs": [
    {
     "name": "stdout",
     "output_type": "stream",
     "text": [
      "set train\n",
      "Number of non continuous segments 21 % 0.705408128988915\n",
      "Total number of segments 2977\n"
     ]
    }
   ],
   "source": [
    "def cont_ncont(ann_dic):\n",
    "    nnc = 0 # number of non continuous segments\n",
    "    ntot = 0 # total number of segments\n",
    "    for k in ann_dic.keys():\n",
    "        piv = ann_dic[k]['label']\n",
    "        ntot+=1\n",
    "        if not len(piv) == 3:\n",
    "            nnc+=1\n",
    "    return [nnc,ntot]\n",
    "\n",
    "\n",
    "def count_non_continuous(set):\n",
    "    ldics = load_pickle(set + '_ann_dics')\n",
    "    cnc = 0 # cont non continuous segments\n",
    "    ctot = 0 # cont total segments\n",
    "    for i in range(len(ldics)):\n",
    "        [nnc,ntot] = cont_ncont(ldics[i])\n",
    "        cnc+=nnc\n",
    "        ctot+=ntot\n",
    "    print(\"set\",set)\n",
    "    print(\"Number of non continuous segments\",cnc,'%',(cnc/ctot)*100)\n",
    "    print(\"Total number of segments\",ctot)\n",
    "count_non_continuous('train')"
   ]
  },
  {
   "cell_type": "markdown",
   "id": "a0db38ed",
   "metadata": {},
   "source": []
  },
  {
   "cell_type": "markdown",
   "id": "c81e15fc",
   "metadata": {},
   "source": [
    "# Step 8 - Transform the Imported Data into the Right Format for Training"
   ]
  },
  {
   "cell_type": "code",
   "execution_count": 9,
   "id": "09298924",
   "metadata": {},
   "outputs": [
    {
     "name": "stdout",
     "output_type": "stream",
     "text": [
      "[{'label': 'CHEM', 'range': ['0', '20'], 'text': 'Glutamine synthétase'},\n",
      " {'label': 'CHEM', 'range': ['24', '33'], 'text': 'glutamine'},\n",
      " {'label': 'CHEM', 'range': ['34', '60'], 'text': 'gamma-glutamyl transferase'},\n",
      " {'label': 'ANAT', 'range': ['69', '73'], 'text': 'rein'},\n",
      " {'label': 'LIVB', 'range': ['80', '85'], 'text': 'homme'},\n",
      " {'label': 'LIVB', 'range': ['91', '96'], 'text': 'chien'},\n",
      " {'label': 'LIVB', 'range': ['103', '106'], 'text': 'rat'}]\n"
     ]
    }
   ],
   "source": [
    "def simple_dic(ann_dic):\n",
    "    lista = []\n",
    "    for t in ann_dic.keys():\n",
    "        pt = ann_dic[t]\n",
    "        dic = {\n",
    "            'label' : pt['label'][0],\n",
    "            'range' : pt['label'][1:],\n",
    "            'text' : pt['text']\n",
    "        }\n",
    "        lista.append(dic)\n",
    "    return lista\n",
    "sdic = simple_dic(d1)\n",
    "pprint.pprint(sdic)"
   ]
  },
  {
   "cell_type": "markdown",
   "id": "477b83ec",
   "metadata": {},
   "source": [
    "# Step 9 - Augment the Data with Additional Information from the Files"
   ]
  },
  {
   "cell_type": "code",
   "execution_count": 10,
   "id": "8bea60ca",
   "metadata": {},
   "outputs": [
    {
     "name": "stdout",
     "output_type": "stream",
     "text": [
      "{'ann_dic': [],\n",
      " 'txt': [\"Nouvelles données sur l' élaboration , par le testicule du coquelet \"\n",
      "         \", de l' hormone responsable de la régression des canaux de Müller \"\n",
      "         '.\\n']}\n"
     ]
    }
   ],
   "source": [
    "def mix_txt_ann(pic_file,path,set):\n",
    "    ltxt = load_pickle(pic_file)\n",
    "    lnew = []\n",
    "    for i in range(len(ltxt)):\n",
    "        data = read_file(path, ltxt[i], \".txt\")\n",
    "        ldics = load_pickle(set + '_ann_dics')\n",
    "        ann_dic = remove_contained(ldics[i])\n",
    "        ndic ={\n",
    "            'txt':data,\n",
    "            'ann_dic': simple_dic(ann_dic)\n",
    "        }\n",
    "        lnew.append(ndic)\n",
    "    save_pickle(lnew,set+'_txt_ann')\n",
    "set = 'train'\n",
    "mix_txt_ann('train_txt',path_train,set)\n",
    "lista = load_pickle(set+'_txt_ann')\n",
    "pprint.pprint(lista[0])"
   ]
  },
  {
   "cell_type": "markdown",
   "id": "766bae0b",
   "metadata": {},
   "source": [
    "# Step 10 - Convert Dicts Into List of Tuples, and Fill In Missing Tags with \"None\"\n",
    "\n",
    "We can simplify more this structure converting the list of dictionaries that corresponds to the annotation part in a list of tuples. We need also to tag all segments included in the TXT segments. We already have some of them tagged, but others don't. We will tag them as 'NONE' indicating that this tag is none of the others.\n",
    "\n",
    "The funstion ldic2ltup converts a list of dictionaries into a list of tuples, while the function complete_segments tag with 'NONE' the other non-tagged segments."
   ]
  },
  {
   "cell_type": "code",
   "execution_count": 11,
   "id": "d3bcf950",
   "metadata": {},
   "outputs": [
    {
     "name": "stdout",
     "output_type": "stream",
     "text": [
      "{'ann_dic': [(0, 3, 'NONE', \"L' \"),\n",
      "             (4, 11, 'DISO', 'lcoolis'),\n",
      "             (12, 17, 'NONE', 'e aur'),\n",
      "             (18, 44, 'ANAT', 'it-il une étiologie généti'),\n",
      "             (45, 49, 'NONE', 'ue ?')],\n",
      " 'txt': \"L' alcoolisme aurait-il une étiologie génétique ?\\n\"}\n"
     ]
    }
   ],
   "source": [
    "def ldic2ltup(i,listai):\n",
    "    ann_dic = listai['ann_dic']\n",
    "    txt = listai['txt'][0]\n",
    "    ltup = []\n",
    "    for dic in ann_dic:\n",
    "        etiq = dic['label']\n",
    "        rango = dic['range']\n",
    "        if len(rango) < 3:\n",
    "            # print(\"<3\")\n",
    "            a = int(rango[0])\n",
    "            b = int(rango[1])\n",
    "            ltup.append((a, b, etiq, txt[a:b]))\n",
    "        #else:\n",
    "        #    print(\"varios tuplos\")\n",
    "    ltup.sort()\n",
    "    return ltup\n",
    "def complete_segments(set):\n",
    "    lista = load_pickle(set + '_txt_ann')\n",
    "    newl = []\n",
    "    for i in range(len(lista)):       # len(lista)):\n",
    "        txt = lista[i]['txt'][0] # a list with one elem\n",
    "        ltup = ldic2ltup(i, lista[i])\n",
    "        ltup.sort()\n",
    "        lt1 = []\n",
    "        if len(ltup) == 0:\n",
    "            tup = (0,len(txt),'NONE',txt)\n",
    "            lt1.append(tup)\n",
    "            continue\n",
    "        if ltup[0][0]>0:\n",
    "            a = 0\n",
    "            b = ltup[0][0]-1\n",
    "            tup = (a,b,'NONE',txt[a:b])\n",
    "            lt1.insert(0,tup)\n",
    "        for j in range(len(ltup)-1):\n",
    "            if ltup[j][1]+1 == ltup[j+1][0]: # consecutives\n",
    "                lt1.append(ltup[j])\n",
    "            else: # non consecutives\n",
    "                a = ltup[j][1]+1\n",
    "                lt1.append(ltup[j]) # previous one\n",
    "                b = ltup[j+1][0]-1\n",
    "                tup = (a,b,'NONE',txt[a:b])\n",
    "                lt1.append(tup) # new one\n",
    "        lt1.append(ltup[-1])\n",
    "        if ltup[-1][1] < len(txt):\n",
    "            a = ltup[-1][1]+1\n",
    "            b = len(txt) -1\n",
    "            tup = (a,b,'NONE',txt[a:b])\n",
    "            lt1.append(tup)\n",
    "        lt1.sort()\n",
    "        newl.append( {\n",
    "            'ann_dic' : lt1,\n",
    "            'txt' : txt\n",
    "        } )\n",
    "        save_pickle(newl,set + '_txt_ann2')\n",
    "set = 'train'\n",
    "complete_segments(set)\n",
    "new1 = load_pickle(set + '_txt_ann2')\n",
    "pprint.pprint(new1[0])"
   ]
  },
  {
   "cell_type": "markdown",
   "id": "fc798fc4",
   "metadata": {},
   "source": [
    "# Step 11 - Tokenize Each Text Segment and Tag Each Token with Segment Tag\n",
    "\n",
    "With the help of function ldic2ltok_lab, we will tokenize each one of the text segments and tag each token with the corresponding tag i.e. the segment tag"
   ]
  },
  {
   "cell_type": "code",
   "execution_count": 12,
   "id": "ac900cef",
   "metadata": {},
   "outputs": [
    {
     "name": "stdout",
     "output_type": "stream",
     "text": [
      "Requirement already satisfied: nltk in ./.venv/lib/python3.8/site-packages (3.6.2)\n",
      "Requirement already satisfied: click in ./.venv/lib/python3.8/site-packages (from nltk) (8.0.1)\n",
      "Requirement already satisfied: tqdm in ./.venv/lib/python3.8/site-packages (from nltk) (4.61.1)\n",
      "Requirement already satisfied: joblib in ./.venv/lib/python3.8/site-packages (from nltk) (1.0.1)\n",
      "Requirement already satisfied: regex in ./.venv/lib/python3.8/site-packages (from nltk) (2021.4.4)\n"
     ]
    }
   ],
   "source": [
    "!pip install nltk"
   ]
  },
  {
   "cell_type": "code",
   "execution_count": 13,
   "id": "f8e6a285",
   "metadata": {},
   "outputs": [],
   "source": [
    "from nltk import RegexpTokenizer\n",
    "\n",
    "def ldic2ltok_lab(lsent):\n",
    "    ls_tok_lab = []\n",
    "    toknizer = RegexpTokenizer(r'''\\w'|\\w+|[^\\w\\s]''')\n",
    "    for sent in lsent:\n",
    "        ltup = sent['ann_dic']\n",
    "        lt_tok_lab = []\n",
    "        for (a, b, lab, txt) in ltup: # un segmento\n",
    "            lts = toknizer.tokenize(txt)\n",
    "            ltoks = [(t, lab) for t in lts]\n",
    "            lt_tok_lab.extend(ltoks)\n",
    "        ls_tok_lab.append(lt_tok_lab)\n",
    "    # print(ls_tok_lab)\n",
    "    return ls_tok_lab\n",
    "\n",
    "ls_tok_lab = ldic2ltok_lab(new1)\n",
    "save_pickle(ls_tok_lab,set + '_txt_ann3')"
   ]
  },
  {
   "cell_type": "markdown",
   "id": "9f6e011e",
   "metadata": {},
   "source": [
    "# Step 12 - Extract labels for each sentence\n",
    "Following we will explain the train and test part of the algorithm. In order to train the algorithm, we need first to obtain a vector y with the labels for each sentence and a matrix X with a set of features for each sentence.\n",
    "\n",
    "Let's begin explaining how to extract the labels for each sentence. The function sentences2labels converts the list of tuples (a,b,token,label) corresponding to the sentences into list of labels using the function sent2labels for extracting the labels for each sentence (i.e. list of tuples)\n",
    "\n",
    "**NOTE**: This step is not necessary if all being run as part of a single notebook. However, often times steps leading up to this one (e.g. importing, conversion, transformation) would be part of one system, and output (via pickles) into a second system."
   ]
  },
  {
   "cell_type": "code",
   "execution_count": 14,
   "id": "e8ffeafc",
   "metadata": {},
   "outputs": [],
   "source": [
    "def sent2labels(ltup):\n",
    "    liob = []\n",
    "    for (token,label) in ltup:\n",
    "        liob.append(label)\n",
    "    return liob\n",
    "\n",
    "def sentences2labels(ls_tok_lab):\n",
    "    print(\"extracting labels from sentences...\")\n",
    "    llabs = []\n",
    "    for ltup in list(ls_tok_lab):\n",
    "        labs = sent2labels(ltup)\n",
    "        llabs.append(labs)\n",
    "    return llabs"
   ]
  },
  {
   "cell_type": "markdown",
   "id": "03540548",
   "metadata": {},
   "source": [
    "By the other hand, we have the function sentences2features which converts a list of sentences into a list of lists of features (i.e. each feature correspond to a token and all the features that belong to a sentence are collected into the same list). It returns the list of lists of features. For each list of tuples (i.e. sentence), it uses the function word2features to convert the i-th element (token, label) of the tuple list into a set of features. It returns the set of features. In this example, the features considered were:\n",
    "\n",
    "Is the token lowercase or uppercase?\n",
    "Does the token begin with a capital?\n",
    "Is the token made up of digits?\n",
    "Is the token formed by alphanumeric chars?\n",
    "Is the token formed by alphabetic chars?\n",
    "the last 3 chars of the token\n",
    "the last 2 chars of the token This set of features is also collected for the previous and following token (if they exist)"
   ]
  },
  {
   "cell_type": "code",
   "execution_count": 15,
   "id": "eb769066",
   "metadata": {},
   "outputs": [],
   "source": [
    "def word2features(sent, i):\n",
    "    token = sent[i][0]     # take word i from the sentence\n",
    "    features = {\n",
    "        # setup the features\n",
    "        'bias': 1.0,\n",
    "        'word.lower()': token.lower(),  \t# Is the token lowercase?\n",
    "        'word.isupper()': token.isupper(),  # Is the token uppercase?\n",
    "        'word.istitle()': token.istitle(),  # Does the token begin with a capital?\n",
    "        'word.isdigit()': token.isdigit(),  # Is the token made up of digits?\n",
    "        'word.isalnum()': token.isalnum(),  # Is the token formed by alphanumeric chars?\n",
    "        'word.isalpha()': token.isalpha(),  # Is the token formed by alphabetic chars?\n",
    "        'word[-3:]': token[-3:],\t\t    # the last 3 chars of the token\n",
    "        'word[-2:]': token[-2:], \t        # the last 2 chars of the token\n",
    "    }\n",
    "    if i > 0:  # if it is not the first word\n",
    "        token1 = sent[i - 1][0]        # take the previous token\n",
    "        features.update({               # update the features\n",
    "            '-1:word.lower()': token1.lower(),      # Is the previous token lowercase?\n",
    "            '-1:word.isupper()': token1.isupper(),  # Is the previous token uppercase?\n",
    "            '-1:word.istitle()': token1.istitle(),  # Does it begin with a capital?\n",
    "            '-1:word.isdigit()': token1.isdigit(),  # Is the previous token made up of digits?\n",
    "            '-1:word.isalnum()': token1.isalnum(),  # Is the previous token formed by alphanumeric chars?\n",
    "            '-1:word.isalpha()': token1.isalpha(),  # Is the previous token formed by alphabetic chars?\n",
    "            '-1:word[-3:]': token1[-3:],            # the last 3 chars of the previous token\n",
    "            '-1:word[-2:]': token1[-2:],            # the last 2 chars of the previous token\n",
    "        })\n",
    "    else:       # if it is the first word\n",
    "        features['BOS'] = True  # set 'Begin Of Sentence'\n",
    "    if i < len(sent) - 1:           # if it is not the last word\n",
    "        token1 = sent[i + 1][0]     # take the next word\n",
    "        features.update({           # update the features:\n",
    "            '+1:word.lower()': token1.lower(),      # Is the next token lowercase?\n",
    "            '+1:word.istitle()': token1.istitle(),  # Does it begin with a capital?\n",
    "            '+1:word.isupper()': token1.isupper(),  # Is the it uppercase?\n",
    "            '+1:word.isdigit()': token1.isdigit(),  # Is the next token made up of digits?\n",
    "            '+1:word.isalnum()': token1.isalnum(),  # Is the next token formed by alphanumeric chars?\n",
    "            '+1:word.isalpha()': token1.isalpha(),  # Is the next token formed by alphabetic chars?\n",
    "            '+1:word[-3:]': token1[-3:],            # the last 3 chars of the next token\n",
    "            '+1:word[-2:]': token1[-2:],            # the last 2 chars of the next token\n",
    "        })\n",
    "    else:       # if it is the last word\n",
    "        features['EOS'] = True  # set 'End Of Sentence'\n",
    "    return features\n",
    "    \n",
    "def sentences2features(ls_tok_lab):\n",
    "    print(\"converting sentences to features...\")\n",
    "    lfeat = []\n",
    "    for ltup in ls_tok_lab:\n",
    "        lfeat.append([word2features(ltup, i) for i in range(len(ltup))])\n",
    "    return lfeat"
   ]
  },
  {
   "cell_type": "markdown",
   "id": "4cabcbe8",
   "metadata": {},
   "source": [
    "# Step 13 - Convert dictionaries with annotations and text into lists of features and define the training functions\n",
    "The function train_test receives a list of dictionaries with the annotations and text of the sentences as described before. Then it extracts a list of lists of labels that correspond to the list of sentences which is saved into variable y\n",
    "\n",
    "Afterthat it converts the list of sentences into list of lists of features (i.e. each token corresponds to several feature and all the features that belong to a sentence are collected into the same list) which is stored into variable X\n",
    "\n",
    "Then we train the Conditional Random Field (CRF) algorithm with this data using cross validation) with 5 groups. It also calculate the classification report as well as the mean score and the 95% confidence interval of the score estimate. The classifier is saved into the file \"crf_tagger.pkl\""
   ]
  },
  {
   "cell_type": "code",
   "execution_count": 16,
   "id": "c0504e6e",
   "metadata": {},
   "outputs": [
    {
     "name": "stdout",
     "output_type": "stream",
     "text": [
      "Python 3.8.5\r\n"
     ]
    }
   ],
   "source": [
    "!python --version"
   ]
  },
  {
   "cell_type": "code",
   "execution_count": 17,
   "id": "4871284d",
   "metadata": {},
   "outputs": [
    {
     "name": "stdout",
     "output_type": "stream",
     "text": [
      "Requirement already satisfied: scikit-learn<0.24 in ./.venv/lib/python3.8/site-packages (0.23.2)\r\n",
      "Requirement already satisfied: sklearn-crfsuite in ./.venv/lib/python3.8/site-packages (0.3.6)\r\n",
      "Requirement already satisfied: joblib>=0.11 in ./.venv/lib/python3.8/site-packages (from scikit-learn<0.24) (1.0.1)\r\n",
      "Requirement already satisfied: numpy>=1.13.3 in ./.venv/lib/python3.8/site-packages (from scikit-learn<0.24) (1.20.3)\r\n",
      "Requirement already satisfied: scipy>=0.19.1 in ./.venv/lib/python3.8/site-packages (from scikit-learn<0.24) (1.6.3)\r\n",
      "Requirement already satisfied: threadpoolctl>=2.0.0 in ./.venv/lib/python3.8/site-packages (from scikit-learn<0.24) (2.1.0)\r\n",
      "Requirement already satisfied: tqdm>=2.0 in ./.venv/lib/python3.8/site-packages (from sklearn-crfsuite) (4.61.1)\r\n",
      "Requirement already satisfied: tabulate in ./.venv/lib/python3.8/site-packages (from sklearn-crfsuite) (0.8.9)\r\n",
      "Requirement already satisfied: python-crfsuite>=0.8.3 in ./.venv/lib/python3.8/site-packages (from sklearn-crfsuite) (0.9.7)\r\n",
      "Requirement already satisfied: six in ./.venv/lib/python3.8/site-packages (from sklearn-crfsuite) (1.16.0)\r\n"
     ]
    }
   ],
   "source": [
    "!pip3 install 'scikit-learn<0.24' sklearn-crfsuite\n",
    "\n",
    "from sklearn_crfsuite import CRF\n",
    "from sklearn.model_selection import cross_val_predict\n",
    "from sklearn.model_selection import cross_val_score\n",
    "from sklearn_crfsuite.metrics import flat_classification_report\n",
    "\n",
    "def save_pickle(data,file):\n",
    "    pick_file = open(file+\".pkl\", \"wb\")\n",
    "    pickle.dump(data, pick_file)\n",
    "    pick_file.close()\n",
    "\n",
    "def train_test(ls_tok_lab):\n",
    "    print(\"Begin training...\")\n",
    "    y = sentences2labels(ls_tok_lab)\n",
    "    X = sentences2features(ls_tok_lab)\n",
    "\n",
    "    c1 = 0.005 \n",
    "    c2 = 0.005 \n",
    "    all_possible_transitions = True\n",
    "    max_iterations = 100\n",
    "    algorithm = 'lbfgs'\n",
    "    print(\"Model CRF algorithm=\",algorithm,\"c1=\", c1, \"c2=\", c2,\n",
    "          \"max_iterations=\",max_iterations,\n",
    "          \"all_possible_transitions=\",all_possible_transitions)\n",
    "    crf = CRF(algorithm=algorithm,c1=c1,c2= c2,\n",
    "              max_iterations=max_iterations,\n",
    "              all_possible_transitions=all_possible_transitions)\n",
    "\n",
    "    print(\"Use cross_val_predict cv=5\")\n",
    "    pred = cross_val_predict(estimator=crf, X=X, y=y, cv=5)\n",
    "    report = flat_classification_report(y_pred=pred, y_true=y)\n",
    "    print(\"classification_report\")\n",
    "    print(report)\n",
    "    print(\"Use cross_val_score with cv=5\")\n",
    "    scores = cross_val_score(crf, X, y, cv=5)\n",
    "    # The mean score and the 95% confidence interval of the\n",
    "    # score estimate are hence given by:\n",
    "    print(\"Accuracy: %0.2f (+/- %0.2f)\" % (scores.mean(), scores.std() * 2))\n",
    "    crf.fit(X=X, y=y)    \n",
    "    save_pickle(crf, \"crf_tagger\")\n",
    "    return report"
   ]
  },
  {
   "cell_type": "markdown",
   "id": "0cad6621",
   "metadata": {},
   "source": [
    "# Step 14 - Execute the training run"
   ]
  },
  {
   "cell_type": "code",
   "execution_count": 18,
   "id": "c79d55a7",
   "metadata": {},
   "outputs": [
    {
     "name": "stdout",
     "output_type": "stream",
     "text": [
      "Begin training...\n",
      "extracting labels from sentences...\n",
      "converting sentences to features...\n",
      "Model CRF algorithm= lbfgs c1= 0.005 c2= 0.005 max_iterations= 100 all_possible_transitions= True\n",
      "Use cross_val_predict cv=5\n"
     ]
    },
    {
     "name": "stderr",
     "output_type": "stream",
     "text": [
      "/home/daaronch/code/same-samples/sample_same_solution/before/.venv/lib/python3.8/site-packages/sklearn/base.py:209: FutureWarning: From version 0.24, get_params will raise an AttributeError if a parameter cannot be retrieved as an instance attribute. Previously it would return None.\n",
      "  warnings.warn('From version 0.24, get_params will raise an '\n",
      "<__array_function__ internals>:5: VisibleDeprecationWarning: Creating an ndarray from ragged nested sequences (which is a list-or-tuple of lists-or-tuples-or ndarrays with different lengths or shapes) is deprecated. If you meant to do this, you must specify 'dtype=object' when creating the ndarray.\n",
      "/home/daaronch/code/same-samples/sample_same_solution/before/.venv/lib/python3.8/site-packages/sklearn/utils/validation.py:67: FutureWarning: Pass labels=None as keyword args. From version 0.25 passing these as positional arguments will result in an error\n",
      "  warnings.warn(\"Pass {} as keyword args. From version 0.25 \"\n"
     ]
    },
    {
     "name": "stdout",
     "output_type": "stream",
     "text": [
      "classification_report\n",
      "              precision    recall  f1-score   support\n",
      "\n",
      "        ANAT       0.07      0.03      0.04       473\n",
      "        CHEM       0.05      0.02      0.03       545\n",
      "        DEVI       0.44      0.04      0.07       104\n",
      "        DISO       0.18      0.13      0.15      1706\n",
      "        GEOG       0.00      0.00      0.00        51\n",
      "        LIVB       0.04      0.02      0.03       329\n",
      "        NONE       0.66      0.83      0.73      7410\n",
      "        OBJC       0.00      0.00      0.00        37\n",
      "        PHEN       0.00      0.00      0.00        77\n",
      "        PHYS       0.00      0.00      0.00       243\n",
      "        PROC       0.13      0.09      0.11       997\n",
      "\n",
      "    accuracy                           0.54     11972\n",
      "   macro avg       0.14      0.11      0.11     11972\n",
      "weighted avg       0.45      0.54      0.49     11972\n",
      "\n",
      "Use cross_val_score with cv=5\n",
      "Accuracy: 0.54 (+/- 0.06)\n"
     ]
    }
   ],
   "source": [
    "import os\n",
    "import pickle\n",
    "\n",
    "def load_pickle(file):\n",
    "    pick_file = open(file+\".pkl\", \"rb\")\n",
    "    data = pickle.load(pick_file)\n",
    "    pick_file.close()\n",
    "    return data\n",
    "\n",
    "def step1(set):\n",
    "    ls_tok_lab = load_pickle(set + '_txt_ann3')\n",
    "    report = train_test(ls_tok_lab)\n",
    "    return report\n",
    "set = 'train'\n",
    "# First step: train and test the model\n",
    "report = step1(set)"
   ]
  },
  {
   "cell_type": "markdown",
   "id": "924119cf",
   "metadata": {},
   "source": [
    "# Step 15 - Confirm the Results\n",
    "\n",
    "Now let's analyze in some detail the obtained results. The classification report offers a text summary of the precision, recall, F1 score for each category. The reported averages include:\n",
    "\n",
    "- macro average: averaging the unweighted mean per label,\n",
    "- weighted average: averaging the support-weighted mean per label, and\n",
    "- micro average: averaging the total true positives, false negatives and false positives. \n",
    "\n",
    "It is only shown for multi-label or multi-class with a subset of classes because it is accuracy otherwise.\n",
    "Both micro and weighted average shows acceptable results (over 70%), while macro average is considerably lower. Analysing the results by category, we can see that the best results (over 80%) were obtained with category NONE, which corresponds to words that are not in any of the others category. We can see also that there were 6963 NONE words included into the sentences processed, which is a much higher value than all the others. We will show these results graphically."
   ]
  },
  {
   "cell_type": "code",
   "execution_count": 26,
   "id": "81f442a3",
   "metadata": {},
   "outputs": [
    {
     "data": {
      "text/plain": [
       "'              precision    recall  f1-score   support\\n\\n        ANAT       0.07      0.03      0.04       473\\n        CHEM       0.05      0.02      0.03       545\\n        DEVI       0.44      0.04      0.07       104\\n        DISO       0.18      0.13      0.15      1706\\n        GEOG       0.00      0.00      0.00        51\\n        LIVB       0.04      0.02      0.03       329\\n        NONE       0.66      0.83      0.73      7410\\n        OBJC       0.00      0.00      0.00        37\\n        PHEN       0.00      0.00      0.00        77\\n        PHYS       0.00      0.00      0.00       243\\n        PROC       0.13      0.09      0.11       997\\n\\n    \\n   macro        0.14      0.11      0.11     11972\\nweighted        0.45      0.54      0.49     11972\\n'"
      ]
     },
     "execution_count": 26,
     "metadata": {},
     "output_type": "execute_result"
    }
   ],
   "source": [
    "import numpy as np\n",
    "import re\n",
    "#\n",
    "# Create a function called \"chunks\" with two arguments, l and n:\n",
    "def chunks(l, n):\n",
    "    # For item i in a range that is a length of l,\n",
    "    for i in range(0, len(l), n):\n",
    "        # Create an index range for l of n items:\n",
    "        yield l[i:i+n]\n",
    "\n",
    "# Transform the report in string format into a list of chunks\n",
    "# one chunk for each report row \n",
    "r1 = report.replace('avg','')\n",
    "rl = re.sub(r\"accuracy[^\\n]*\", \"\", r1, re.M)\n",
    "rl"
   ]
  },
  {
   "cell_type": "code",
   "execution_count": 28,
   "id": "5899d104",
   "metadata": {},
   "outputs": [
    {
     "data": {
      "text/plain": [
       "[['label', 'precision', 'recall', 'f1-score', 'support'],\n",
       " ['ANAT', '0.07', '0.03', '0.04', '473'],\n",
       " ['CHEM', '0.05', '0.02', '0.03', '545'],\n",
       " ['DEVI', '0.44', '0.04', '0.07', '104'],\n",
       " ['DISO', '0.18', '0.13', '0.15', '1706'],\n",
       " ['GEOG', '0.00', '0.00', '0.00', '51'],\n",
       " ['LIVB', '0.04', '0.02', '0.03', '329'],\n",
       " ['NONE', '0.66', '0.83', '0.73', '7410'],\n",
       " ['OBJC', '0.00', '0.00', '0.00', '37'],\n",
       " ['PHEN', '0.00', '0.00', '0.00', '77'],\n",
       " ['PHYS', '0.00', '0.00', '0.00', '243'],\n",
       " ['PROC', '0.13', '0.09', '0.11', '997'],\n",
       " ['macro', '0.14', '0.11', '0.11', '11972'],\n",
       " ['weighted', '0.45', '0.54', '0.49', '11972']]"
      ]
     },
     "execution_count": 28,
     "metadata": {},
     "output_type": "execute_result"
    }
   ],
   "source": [
    "rl = rl.split()\n",
    "rl.insert(0,'label')\n",
    "llists = list(chunks(rl, 5))\n",
    "llists"
   ]
  },
  {
   "cell_type": "code",
   "execution_count": 29,
   "id": "4ab44747",
   "metadata": {},
   "outputs": [],
   "source": [
    "col_labels = ['precision', 'recall', 'f1', 'support']\n",
    "# Extract the report column 0 corresponding to the labels (without the heading)\n",
    "labels = [item[0] for item in llists][1:]\n",
    "l = list(reversed(labels))[3:]"
   ]
  },
  {
   "cell_type": "code",
   "execution_count": 30,
   "id": "d1d81bc5",
   "metadata": {},
   "outputs": [],
   "source": [
    "# Extract the report column 1 corresponding to precision results\n",
    "precision = [item[1] for item in llists][1:]\n",
    "precision = [float(p) for p in precision] # string --> float\n",
    "p = list(reversed(precision))[3:]"
   ]
  },
  {
   "cell_type": "code",
   "execution_count": 31,
   "id": "90e4f869",
   "metadata": {},
   "outputs": [],
   "source": [
    "# Extract the report column 2 corresponding to recall results\n",
    "recall = [item[2] for item in llists][1:]\n",
    "recall = [float(p) for p in recall] # string --> float\n",
    "r = list(reversed(recall))[3:]"
   ]
  },
  {
   "cell_type": "code",
   "execution_count": 33,
   "id": "34d93428",
   "metadata": {},
   "outputs": [],
   "source": [
    "# Extract the report column 3 corresponding to F1-score results\n",
    "f1 = [item[3] for item in llists][1:]\n",
    "f1 = [float(p) for p in f1] # string --> float\n",
    "f = list(reversed(f1))[3:]"
   ]
  },
  {
   "cell_type": "code",
   "execution_count": 34,
   "id": "66f90c4d",
   "metadata": {},
   "outputs": [],
   "source": [
    "# Extract the report column 4 corresponding to support results\n",
    "support = [item[4] for item in llists][1:]\n",
    "support = [int(p) for p in support] # string --> integer\n",
    "s = list(reversed(support))[3:]"
   ]
  },
  {
   "cell_type": "code",
   "execution_count": 41,
   "id": "99049c90",
   "metadata": {},
   "outputs": [
    {
     "name": "stdout",
     "output_type": "stream",
     "text": [
      "Requirement already satisfied: pandas in ./.venv/lib/python3.8/site-packages (1.2.4)\n",
      "Requirement already satisfied: pytz>=2017.3 in ./.venv/lib/python3.8/site-packages (from pandas) (2021.1)\n",
      "Requirement already satisfied: python-dateutil>=2.7.3 in ./.venv/lib/python3.8/site-packages (from pandas) (2.8.1)\n",
      "Requirement already satisfied: numpy>=1.16.5 in ./.venv/lib/python3.8/site-packages (from pandas) (1.20.3)\n",
      "Requirement already satisfied: six>=1.5 in ./.venv/lib/python3.8/site-packages (from python-dateutil>=2.7.3->pandas) (1.16.0)\n",
      "Collecting matplotlib\n",
      "  Downloading matplotlib-3.4.2-cp38-cp38-manylinux1_x86_64.whl (10.3 MB)\n",
      "\u001b[K     |████████████████████████████████| 10.3 MB 5.0 MB/s eta 0:00:01\n",
      "\u001b[?25hRequirement already satisfied: numpy>=1.16 in ./.venv/lib/python3.8/site-packages (from matplotlib) (1.20.3)\n",
      "Requirement already satisfied: pyparsing>=2.2.1 in ./.venv/lib/python3.8/site-packages (from matplotlib) (2.4.7)\n",
      "Collecting kiwisolver>=1.0.1\n",
      "  Using cached kiwisolver-1.3.1-cp38-cp38-manylinux1_x86_64.whl (1.2 MB)\n",
      "Collecting pillow>=6.2.0\n",
      "  Using cached Pillow-8.2.0-cp38-cp38-manylinux1_x86_64.whl (3.0 MB)\n",
      "Requirement already satisfied: python-dateutil>=2.7 in ./.venv/lib/python3.8/site-packages (from matplotlib) (2.8.1)\n",
      "Collecting cycler>=0.10\n",
      "  Using cached cycler-0.10.0-py2.py3-none-any.whl (6.5 kB)\n",
      "Requirement already satisfied: six in ./.venv/lib/python3.8/site-packages (from cycler>=0.10->matplotlib) (1.16.0)\n",
      "Installing collected packages: pillow, kiwisolver, cycler, matplotlib\n",
      "Successfully installed cycler-0.10.0 kiwisolver-1.3.1 matplotlib-3.4.2 pillow-8.2.0\n"
     ]
    }
   ],
   "source": [
    "!pip3 install pandas\n",
    "!pip3 install matplotlib"
   ]
  },
  {
   "cell_type": "code",
   "execution_count": 42,
   "id": "e1eceee5",
   "metadata": {},
   "outputs": [],
   "source": [
    "# Extract the report column 4 corresponding to support results\n",
    "support = [item[4] for item in llists][1:]\n",
    "support = [int(p) for p in support] # string --> integer\n",
    "s = list(reversed(support))[3:]"
   ]
  },
  {
   "cell_type": "code",
   "execution_count": 43,
   "id": "a813c59f",
   "metadata": {},
   "outputs": [
    {
     "data": {
      "text/html": [
       "<div>\n",
       "<style scoped>\n",
       "    .dataframe tbody tr th:only-of-type {\n",
       "        vertical-align: middle;\n",
       "    }\n",
       "\n",
       "    .dataframe tbody tr th {\n",
       "        vertical-align: top;\n",
       "    }\n",
       "\n",
       "    .dataframe thead th {\n",
       "        text-align: right;\n",
       "    }\n",
       "</style>\n",
       "<table border=\"1\" class=\"dataframe\">\n",
       "  <thead>\n",
       "    <tr style=\"text-align: right;\">\n",
       "      <th></th>\n",
       "      <th>precision</th>\n",
       "      <th>recall</th>\n",
       "      <th>F1-score</th>\n",
       "      <th>Support</th>\n",
       "    </tr>\n",
       "  </thead>\n",
       "  <tbody>\n",
       "    <tr>\n",
       "      <th>precision</th>\n",
       "      <td>1.000000</td>\n",
       "      <td>0.835736</td>\n",
       "      <td>0.859445</td>\n",
       "      <td>0.805240</td>\n",
       "    </tr>\n",
       "    <tr>\n",
       "      <th>recall</th>\n",
       "      <td>0.835736</td>\n",
       "      <td>1.000000</td>\n",
       "      <td>0.998064</td>\n",
       "      <td>0.995496</td>\n",
       "    </tr>\n",
       "    <tr>\n",
       "      <th>F1-score</th>\n",
       "      <td>0.859445</td>\n",
       "      <td>0.998064</td>\n",
       "      <td>1.000000</td>\n",
       "      <td>0.994388</td>\n",
       "    </tr>\n",
       "    <tr>\n",
       "      <th>Support</th>\n",
       "      <td>0.805240</td>\n",
       "      <td>0.995496</td>\n",
       "      <td>0.994388</td>\n",
       "      <td>1.000000</td>\n",
       "    </tr>\n",
       "  </tbody>\n",
       "</table>\n",
       "</div>"
      ],
      "text/plain": [
       "           precision    recall  F1-score   Support\n",
       "precision   1.000000  0.835736  0.859445  0.805240\n",
       "recall      0.835736  1.000000  0.998064  0.995496\n",
       "F1-score    0.859445  0.998064  1.000000  0.994388\n",
       "Support     0.805240  0.995496  0.994388  1.000000"
      ]
     },
     "execution_count": 43,
     "metadata": {},
     "output_type": "execute_result"
    }
   ],
   "source": [
    "import pandas as pd\n",
    "\n",
    "df = pd.DataFrame(np.corrcoef([p,r,f,s]),\n",
    "                  columns=['precision','recall','F1-score','Support'],\n",
    "                  index=['precision','recall','F1-score','Support'])\n",
    "df"
   ]
  },
  {
   "cell_type": "code",
   "execution_count": 44,
   "id": "c7076e4e",
   "metadata": {},
   "outputs": [
    {
     "data": {
      "image/png": "[encoded data removed]",
      "text/plain": [
       "<Figure size 432x288 with 4 Axes>"
      ]
     },
     "metadata": {
      "needs_background": "light"
     },
     "output_type": "display_data"
    }
   ],
   "source": [
    "%matplotlib inline\n",
    "\n",
    "import matplotlib.pyplot as plt\n",
    "\n",
    "fig, axarr = plt.subplots(4, constrained_layout=True, sharex=True)\n",
    "fig.suptitle('Note that all curves share X axis', fontsize=16)\n",
    "\n",
    "axarr[0].plot(l, p)\n",
    "axarr[1].plot(l, r)\n",
    "axarr[2].plot(l, f)\n",
    "axarr[3].plot(l, s)\n",
    "axarr[0].set_ylabel('Prediction')\n",
    "axarr[1].set_ylabel('Recall')\n",
    "axarr[2].set_ylabel('F1-score')\n",
    "axarr[3].set_ylabel('Support')\n",
    "plt.show()"
   ]
  },
  {
   "cell_type": "markdown",
   "id": "4a0766e9",
   "metadata": {},
   "source": [
    "We can observe that:\n",
    "\n",
    "- all the curves are sharing the X-axis\n",
    "- only the curve that appears at the bottom, i.e. the support one, has integer values in the range [0, 7000]. All the other graphic vary between 0 and 1.\n",
    "- the value at label NONE at the support curve is very much higher than the other values.\n",
    "- all curves get the higher value at label NONE as we noticed before\n",
    "- the second higher value at the precision curve is obtained at label GEOG, although the recall value is not so good\n",
    "- the value at label DISO is the second higher for the support curve as the values for precision, recall and F1 for label DISO are also high\n",
    "\n",
    "We can assume that there is a certain correlation between the values for the support curve and the values for the other curves. Let's calculate the Pearson correlation between those values."
   ]
  },
  {
   "cell_type": "code",
   "execution_count": 45,
   "id": "34a6a398",
   "metadata": {},
   "outputs": [
    {
     "data": {
      "text/html": [
       "<div>\n",
       "<style scoped>\n",
       "    .dataframe tbody tr th:only-of-type {\n",
       "        vertical-align: middle;\n",
       "    }\n",
       "\n",
       "    .dataframe tbody tr th {\n",
       "        vertical-align: top;\n",
       "    }\n",
       "\n",
       "    .dataframe thead th {\n",
       "        text-align: right;\n",
       "    }\n",
       "</style>\n",
       "<table border=\"1\" class=\"dataframe\">\n",
       "  <thead>\n",
       "    <tr style=\"text-align: right;\">\n",
       "      <th></th>\n",
       "      <th>precision</th>\n",
       "      <th>recall</th>\n",
       "      <th>F1-score</th>\n",
       "      <th>Support</th>\n",
       "    </tr>\n",
       "  </thead>\n",
       "  <tbody>\n",
       "    <tr>\n",
       "      <th>precision</th>\n",
       "      <td>1.000000</td>\n",
       "      <td>0.835736</td>\n",
       "      <td>0.859445</td>\n",
       "      <td>0.805240</td>\n",
       "    </tr>\n",
       "    <tr>\n",
       "      <th>recall</th>\n",
       "      <td>0.835736</td>\n",
       "      <td>1.000000</td>\n",
       "      <td>0.998064</td>\n",
       "      <td>0.995496</td>\n",
       "    </tr>\n",
       "    <tr>\n",
       "      <th>F1-score</th>\n",
       "      <td>0.859445</td>\n",
       "      <td>0.998064</td>\n",
       "      <td>1.000000</td>\n",
       "      <td>0.994388</td>\n",
       "    </tr>\n",
       "    <tr>\n",
       "      <th>Support</th>\n",
       "      <td>0.805240</td>\n",
       "      <td>0.995496</td>\n",
       "      <td>0.994388</td>\n",
       "      <td>1.000000</td>\n",
       "    </tr>\n",
       "  </tbody>\n",
       "</table>\n",
       "</div>"
      ],
      "text/plain": [
       "           precision    recall  F1-score   Support\n",
       "precision   1.000000  0.835736  0.859445  0.805240\n",
       "recall      0.835736  1.000000  0.998064  0.995496\n",
       "F1-score    0.859445  0.998064  1.000000  0.994388\n",
       "Support     0.805240  0.995496  0.994388  1.000000"
      ]
     },
     "execution_count": 45,
     "metadata": {},
     "output_type": "execute_result"
    }
   ],
   "source": [
    "import pandas as pd\n",
    "\n",
    "df = pd.DataFrame(np.corrcoef([p,r,f,s]),\n",
    "                  columns=['precision','recall','F1-score','Support'],\n",
    "                  index=['precision','recall','F1-score','Support'])\n",
    "df"
   ]
  },
  {
   "cell_type": "markdown",
   "id": "e9e668cd",
   "metadata": {},
   "source": [
    "# Issues\n",
    "- Pulling in data from flat files on disk (will fail when time to move to a bucket)\n",
    "- Packages missing all over the place (much easier just to add it inline)\n",
    "- Repeatedly tried to run my notebook, and it turned out i hadn't installed a python package in the environment in which my notebook was running. BUT i had installed a previous version of a library in the system, which was giving me the wrong results. Python/Jupyter helpfully fell back to the system version and i had to tear my hair out\n",
    "- No automated tests at all for correctness\n",
    "- Another: The original author wrote a particular output processing based on a libraries function output - but that was all hidden from view - they took the output (as text) and parsed it to move onto the next step. But because the library's version changed, the output changed, and the function no longer worked. But I didn't see why because the output was hidden - so i ended up having to tear apart everything until i figured out why a dict wasn't' being populated correctly\n",
    "- No parameterization (impossible to mount in external tokens, data sources without changing hard coding)\n",
    "- No formal output capturing in objects - manual parsing\n",
    "- No exception handling anywhere - failures will (at best) show stack traces\n",
    "- Inline debugging via printf statements and/or viewing outputs\n",
    "- Functions defined all over the place - and hidden local state of the functions (could result in wrong function being executed)\n",
    "- Use of .pkl to serialize data structures for passing around and/or capturing state"
   ]
  },
  {
   "cell_type": "code",
   "execution_count": null,
   "id": "d97a3eea",
   "metadata": {},
   "outputs": [],
   "source": []
  }
 ],
 "metadata": {
  "kernelspec": {
   "display_name": "Python 3",
   "language": "python",
   "name": "python3"
  },
  "language_info": {
   "codemirror_mode": {
    "name": "ipython",
    "version": 3
   },
   "file_extension": ".py",
   "mimetype": "text/x-python",
   "name": "python",
   "nbconvert_exporter": "python",
   "pygments_lexer": "ipython3",
   "version": "3.8.5"
  }
 },
 "nbformat": 4,
 "nbformat_minor": 5
}
